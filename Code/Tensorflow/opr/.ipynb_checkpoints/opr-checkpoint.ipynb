{
 "cells": [
  {
   "cell_type": "code",
   "execution_count": 1,
   "metadata": {},
   "outputs": [
    {
     "data": {
      "text/plain": [
       "array([-0.58226371,  3.22870478, -1.98599767])"
      ]
     },
     "execution_count": 1,
     "metadata": {},
     "output_type": "execute_result"
    }
   ],
   "source": [
    "import numpy as np\n",
    "\n",
    "A = np.array([[8, 3, -2], [-4, 7, 5], [3, 4, -12]])\n",
    "b = np.array([9, 15, 35])\n",
    "x = np.linalg.solve(A, b)\n",
    "x\n"
   ]
  },
  {
   "cell_type": "code",
   "execution_count": 4,
   "metadata": {},
   "outputs": [],
   "source": [
    "import matplotlib.pyplot as plt\n",
    "import pandas as pd\n",
    "import seaborn as sns\n"
   ]
  },
  {
   "cell_type": "code",
   "execution_count": 16,
   "metadata": {},
   "outputs": [
    {
     "data": {
      "text/html": [
       "<div>\n",
       "<style scoped>\n",
       "    .dataframe tbody tr th:only-of-type {\n",
       "        vertical-align: middle;\n",
       "    }\n",
       "\n",
       "    .dataframe tbody tr th {\n",
       "        vertical-align: top;\n",
       "    }\n",
       "\n",
       "    .dataframe thead th {\n",
       "        text-align: right;\n",
       "    }\n",
       "</style>\n",
       "<table border=\"1\" class=\"dataframe\">\n",
       "  <thead>\n",
       "    <tr style=\"text-align: right;\">\n",
       "      <th></th>\n",
       "      <th>Match</th>\n",
       "      <th>Red1</th>\n",
       "      <th>Red2</th>\n",
       "      <th>Red3</th>\n",
       "      <th>Blue1</th>\n",
       "      <th>Blue2</th>\n",
       "      <th>Blue3</th>\n",
       "      <th>RedScore</th>\n",
       "      <th>BlueScore</th>\n",
       "    </tr>\n",
       "  </thead>\n",
       "  <tbody>\n",
       "    <tr>\n",
       "      <th>0</th>\n",
       "      <td>'Quals 1'</td>\n",
       "      <td>4911</td>\n",
       "      <td>5920</td>\n",
       "      <td>3712</td>\n",
       "      <td>4125</td>\n",
       "      <td>3711</td>\n",
       "      <td>2147</td>\n",
       "      <td>150</td>\n",
       "      <td>125</td>\n",
       "    </tr>\n",
       "    <tr>\n",
       "      <th>1</th>\n",
       "      <td>'Quals 2'</td>\n",
       "      <td>2605</td>\n",
       "      <td>1595</td>\n",
       "      <td>4980</td>\n",
       "      <td>2944</td>\n",
       "      <td>2910</td>\n",
       "      <td>6076</td>\n",
       "      <td>35</td>\n",
       "      <td>139</td>\n",
       "    </tr>\n",
       "    <tr>\n",
       "      <th>2</th>\n",
       "      <td>'Quals 3'</td>\n",
       "      <td>3693</td>\n",
       "      <td>6442</td>\n",
       "      <td>3663</td>\n",
       "      <td>4513</td>\n",
       "      <td>4692</td>\n",
       "      <td>4104</td>\n",
       "      <td>53</td>\n",
       "      <td>69</td>\n",
       "    </tr>\n",
       "    <tr>\n",
       "      <th>3</th>\n",
       "      <td>'Quals 4'</td>\n",
       "      <td>4089</td>\n",
       "      <td>4060</td>\n",
       "      <td>6443</td>\n",
       "      <td>3876</td>\n",
       "      <td>2811</td>\n",
       "      <td>4061</td>\n",
       "      <td>106</td>\n",
       "      <td>68</td>\n",
       "    </tr>\n",
       "    <tr>\n",
       "      <th>4</th>\n",
       "      <td>'Quals 5'</td>\n",
       "      <td>4980</td>\n",
       "      <td>4104</td>\n",
       "      <td>6076</td>\n",
       "      <td>5920</td>\n",
       "      <td>2605</td>\n",
       "      <td>3711</td>\n",
       "      <td>25</td>\n",
       "      <td>129</td>\n",
       "    </tr>\n",
       "  </tbody>\n",
       "</table>\n",
       "</div>"
      ],
      "text/plain": [
       "       Match  Red1  Red2  Red3  Blue1  Blue2  Blue3  RedScore  BlueScore\n",
       "0  'Quals 1'  4911  5920  3712   4125   3711   2147       150        125\n",
       "1  'Quals 2'  2605  1595  4980   2944   2910   6076        35        139\n",
       "2  'Quals 3'  3693  6442  3663   4513   4692   4104        53         69\n",
       "3  'Quals 4'  4089  4060  6443   3876   2811   4061       106         68\n",
       "4  'Quals 5'  4980  4104  6076   5920   2605   3711        25        129"
      ]
     },
     "execution_count": 16,
     "metadata": {},
     "output_type": "execute_result"
    }
   ],
   "source": [
    "westValley = pd.read_csv('PNWDistrictWestValleyEvent2020.csv')\n",
    "westValley.head()\n"
   ]
  },
  {
   "cell_type": "code",
   "execution_count": 47,
   "metadata": {},
   "outputs": [
    {
     "data": {
      "text/plain": [
       "0    4911\n",
       "1    2605\n",
       "2    3693\n",
       "3    4089\n",
       "4    4980\n",
       "Name: Red1, dtype: int64"
      ]
     },
     "execution_count": 47,
     "metadata": {},
     "output_type": "execute_result"
    }
   ],
   "source": [
    "westValley['Red1'].head()"
   ]
  },
  {
   "cell_type": "code",
   "execution_count": 49,
   "metadata": {},
   "outputs": [
    {
     "data": {
      "text/plain": [
       "array([1595, 1595, 1595, 1595, 1595, 1595, 1595, 1595, 1595, 1595, 1595,\n",
       "       1595, 2147, 2147, 2147, 2147, 2147, 2147, 2147, 2147, 2147, 2147,\n",
       "       2147, 2147, 2605, 2605, 2605, 2605, 2605, 2605, 2605, 2605, 2605,\n",
       "       2605, 2605, 2605, 2811, 2811, 2811, 2811, 2811, 2811, 2811, 2811,\n",
       "       2811, 2811, 2811, 2811, 2910, 2910, 2910, 2910, 2910, 2910, 2910,\n",
       "       2910, 2910, 2910, 2910, 2910, 2944, 2944, 2944, 2944, 2944, 2944,\n",
       "       2944, 2944, 2944, 2944, 2944, 2944, 3663, 3663, 3663, 3663, 3663,\n",
       "       3663, 3663, 3663, 3663, 3663, 3663, 3663, 3693, 3693, 3693, 3693,\n",
       "       3693, 3693, 3693, 3693, 3693, 3693, 3693, 3693, 3711, 3711, 3711,\n",
       "       3711, 3711, 3711, 3711, 3711, 3711, 3711, 3711, 3711, 3712, 3712,\n",
       "       3712, 3712, 3712, 3712, 3712, 3712, 3712, 3712, 3712, 3712, 3876,\n",
       "       3876, 3876, 3876, 3876, 3876, 3876, 3876, 3876, 3876, 3876, 3876,\n",
       "       4060, 4060, 4060, 4060, 4060, 4060, 4060, 4060, 4060, 4060, 4060,\n",
       "       4060, 4061, 4061, 4061, 4061, 4061, 4061, 4061, 4061, 4061, 4061,\n",
       "       4061, 4061, 4089, 4089, 4089, 4089, 4089, 4089, 4089, 4089, 4089,\n",
       "       4089, 4089, 4089, 4104, 4104, 4104, 4104, 4104, 4104, 4104, 4104,\n",
       "       4104, 4104, 4104, 4104, 4125, 4125, 4125, 4125, 4125, 4125, 4125,\n",
       "       4125, 4125, 4125, 4125, 4125, 4513, 4513, 4513, 4513, 4513, 4513,\n",
       "       4513, 4513, 4513, 4513, 4513, 4513, 4692, 4692, 4692, 4692, 4692,\n",
       "       4692, 4692, 4692, 4692, 4692, 4692, 4692, 4911, 4911, 4911, 4911,\n",
       "       4911, 4911, 4911, 4911, 4911, 4911, 4911, 4911, 4980, 4980, 4980,\n",
       "       4980, 4980, 4980, 4980, 4980, 4980, 4980, 4980, 4980, 5920, 5920,\n",
       "       5920, 5920, 5920, 5920, 5920, 5920, 5920, 5920, 5920, 5920, 6076,\n",
       "       6076, 6076, 6076, 6076, 6076, 6076, 6076, 6076, 6076, 6076, 6076,\n",
       "       6442, 6442, 6442, 6442, 6442, 6442, 6442, 6442, 6442, 6442, 6442,\n",
       "       6442, 6443, 6443, 6443, 6443, 6443, 6443, 6443, 6443, 6443, 6443,\n",
       "       6443, 6443], dtype=int64)"
      ]
     },
     "execution_count": 49,
     "metadata": {},
     "output_type": "execute_result"
    }
   ],
   "source": [
    "fullTeamList = np.concatenate((westValley['Red1'], westValley['Red2'], westValley['Red3'], westValley['Blue1'], westValley['Blue2'], westValley['Blue3']))\n",
    "fullTeamList = np.sort(fullTeamList)\n",
    "fullTeamList"
   ]
  },
  {
   "cell_type": "code",
   "execution_count": 35,
   "metadata": {},
   "outputs": [
    {
     "data": {
      "text/plain": [
       "array([1595, 2147, 2605, 2811, 2910, 2944, 3663, 3693, 3711, 3712, 3876,\n",
       "       4060, 4061, 4089, 4104, 4125, 4513, 4692, 4911, 4980, 5920, 6076,\n",
       "       6442, 6443], dtype=int64)"
      ]
     },
     "execution_count": 35,
     "metadata": {},
     "output_type": "execute_result"
    }
   ],
   "source": [
    "teamList = np.unique(fullTeamList)\n",
    "teamList"
   ]
  },
  {
   "cell_type": "code",
   "execution_count": 40,
   "metadata": {},
   "outputs": [
    {
     "data": {
      "text/plain": [
       "24"
      ]
     },
     "execution_count": 40,
     "metadata": {},
     "output_type": "execute_result"
    }
   ],
   "source": [
    "teamList.shape[0]"
   ]
  },
  {
   "cell_type": "code",
   "execution_count": 29,
   "metadata": {},
   "outputs": [
    {
     "data": {
      "text/plain": [
       "48"
      ]
     },
     "execution_count": 29,
     "metadata": {},
     "output_type": "execute_result"
    }
   ],
   "source": [
    "numberOfMatchs = westValley['Match'].count()\n",
    "numberOfMatchs"
   ]
  },
  {
   "cell_type": "code",
   "execution_count": 46,
   "metadata": {},
   "outputs": [
    {
     "data": {
      "text/plain": [
       "13"
      ]
     },
     "execution_count": 46,
     "metadata": {},
     "output_type": "execute_result"
    }
   ],
   "source": [
    "x = np.where(teamList == 4089)\n",
    "x[0][0]"
   ]
  },
  {
   "cell_type": "code",
   "execution_count": 83,
   "metadata": {},
   "outputs": [
    {
     "data": {
      "text/plain": [
       "(96, 24)"
      ]
     },
     "execution_count": 83,
     "metadata": {},
     "output_type": "execute_result"
    }
   ],
   "source": [
    "Teams = np.zeros((numberOfMatchs*2,teamList.shape[0]))\n",
    "TeamsPrime = np.zeros((teamList.shape[0],numberOfMatchs*2))\n",
    "Teams.shape"
   ]
  },
  {
   "cell_type": "code",
   "execution_count": 85,
   "metadata": {},
   "outputs": [
    {
     "data": {
      "text/plain": [
       "(96,)"
      ]
     },
     "execution_count": 85,
     "metadata": {},
     "output_type": "execute_result"
    }
   ],
   "source": [
    "Scores = np.concatenate((westValley['RedScore'],westValley['BlueScore']))\n",
    "Scores.shape"
   ]
  },
  {
   "cell_type": "code",
   "execution_count": 58,
   "metadata": {},
   "outputs": [
    {
     "data": {
      "text/plain": [
       "4911"
      ]
     },
     "execution_count": 58,
     "metadata": {},
     "output_type": "execute_result"
    }
   ],
   "source": [
    "westValley['Red1'][0]"
   ]
  },
  {
   "cell_type": "code",
   "execution_count": 87,
   "metadata": {},
   "outputs": [
    {
     "data": {
      "text/plain": [
       "(96, 24)"
      ]
     },
     "execution_count": 87,
     "metadata": {},
     "output_type": "execute_result"
    }
   ],
   "source": [
    "for row in range(numberOfMatchs):\n",
    "    x = np.where(teamList == westValley['Red1'][row])\n",
    "    Teams[row][x[0][0]] = 1\n",
    "    TeamsPrime[x[0][0]][row] = 1\n",
    "    x = np.where(teamList == westValley['Red2'][row])\n",
    "    Teams[row][x[0][0]] = 1\n",
    "    TeamsPrime[x[0][0]][row] = 1\n",
    "    x = np.where(teamList == westValley['Red3'][row])\n",
    "    Teams[row][x[0][0]] = 1\n",
    "    TeamsPrime[x[0][0]][row] = 1\n",
    "    x = np.where(teamList == westValley['Blue1'][row])\n",
    "    Teams[numberOfMatchs+row][x[0][0]] = 1\n",
    "    TeamsPrime[x[0][0]][numberOfMatchs+row] = 1\n",
    "    x = np.where(teamList == westValley['Blue2'][row])\n",
    "    Teams[numberOfMatchs+row][x[0][0]] = 1\n",
    "    TeamsPrime[x[0][0]][numberOfMatchs+row] = 1\n",
    "    x = np.where(teamList == westValley['Blue3'][row])\n",
    "    Teams[numberOfMatchs+row][x[0][0]] = 1\n",
    "    TeamsPrime[x[0][0]][numberOfMatchs+row] = 1\n",
    "Teams.shape"
   ]
  },
  {
   "cell_type": "code",
   "execution_count": 88,
   "metadata": {},
   "outputs": [
    {
     "name": "stdout",
     "output_type": "stream",
     "text": [
      "(24, 24)\n",
      "(24,)\n"
     ]
    }
   ],
   "source": [
    "TeamsTotal = np.matmul(TeamsPrime,Teams)\n",
    "ScoresTotal = np.matmul(TeamsPrime,Scores)\n",
    "print(TeamsTotal.shape)\n",
    "print(ScoresTotal.shape)"
   ]
  },
  {
   "cell_type": "code",
   "execution_count": 90,
   "metadata": {},
   "outputs": [
    {
     "data": {
      "text/plain": [
       "array([ 2.65212034e+01,  4.24441842e+01,  2.95336121e+01,  6.45513722e+01,\n",
       "        9.99224131e+01, -8.36981238e+00,  6.24629168e+01,  2.06713532e+01,\n",
       "        6.04957322e+01,  7.73372702e+00, -6.94355861e+00,  1.27762142e+01,\n",
       "        1.68659719e+01,  6.34268300e+01,  2.67877793e+01,  3.78174627e+01,\n",
       "        6.64036356e+01,  2.38332094e+01,  1.08909224e+02, -2.10645278e-03,\n",
       "        5.70220154e+01, -2.48121066e+00,  1.22962114e+01,  2.51727923e+01])"
      ]
     },
     "execution_count": 90,
     "metadata": {},
     "output_type": "execute_result"
    }
   ],
   "source": [
    "OPRs = np.linalg.solve(RedTeamsTotal, RedScoresTotal)\n",
    "OPRs"
   ]
  },
  {
   "cell_type": "code",
   "execution_count": 95,
   "metadata": {},
   "outputs": [
    {
     "ename": "UFuncTypeError",
     "evalue": "ufunc 'add' did not contain a loop with signature matching types (dtype('<U21'), dtype('<U21')) -> dtype('<U21')",
     "output_type": "error",
     "traceback": [
      "\u001b[1;31m---------------------------------------------------------------------------\u001b[0m",
      "\u001b[1;31mUFuncTypeError\u001b[0m                            Traceback (most recent call last)",
      "\u001b[1;32m<ipython-input-95-bc97f034b2f9>\u001b[0m in \u001b[0;36m<module>\u001b[1;34m\u001b[0m\n\u001b[0;32m      1\u001b[0m \u001b[1;32mfor\u001b[0m \u001b[0mrow\u001b[0m \u001b[1;32min\u001b[0m \u001b[0mrange\u001b[0m\u001b[1;33m(\u001b[0m\u001b[0mOPRs\u001b[0m\u001b[1;33m.\u001b[0m\u001b[0mshape\u001b[0m\u001b[1;33m[\u001b[0m\u001b[1;36m0\u001b[0m\u001b[1;33m]\u001b[0m\u001b[1;33m)\u001b[0m\u001b[1;33m:\u001b[0m\u001b[1;33m\u001b[0m\u001b[1;33m\u001b[0m\u001b[0m\n\u001b[1;32m----> 2\u001b[1;33m     \u001b[0mprint\u001b[0m\u001b[1;33m(\u001b[0m\u001b[0mteamList\u001b[0m\u001b[1;33m[\u001b[0m\u001b[0mrow\u001b[0m\u001b[1;33m]\u001b[0m\u001b[1;33m+\u001b[0m\u001b[1;34m\" \"\u001b[0m\u001b[1;33m+\u001b[0m\u001b[0mOPRs\u001b[0m\u001b[1;33m[\u001b[0m\u001b[0mrow\u001b[0m\u001b[1;33m]\u001b[0m\u001b[1;33m)\u001b[0m\u001b[1;33m\u001b[0m\u001b[1;33m\u001b[0m\u001b[0m\n\u001b[0m",
      "\u001b[1;31mUFuncTypeError\u001b[0m: ufunc 'add' did not contain a loop with signature matching types (dtype('<U21'), dtype('<U21')) -> dtype('<U21')"
     ]
    }
   ],
   "source": [
    "for row in range(OPRs.shape[0]):\n",
    "    teamNumber = teamList[row] \n",
    "    print(+\" \"+OPRs[row])"
   ]
  },
  {
   "cell_type": "code",
   "execution_count": null,
   "metadata": {},
   "outputs": [],
   "source": []
  }
 ],
 "metadata": {
  "kernelspec": {
   "display_name": "Python 3",
   "language": "python",
   "name": "python3"
  },
  "language_info": {
   "codemirror_mode": {
    "name": "ipython",
    "version": 3
   },
   "file_extension": ".py",
   "mimetype": "text/x-python",
   "name": "python",
   "nbconvert_exporter": "python",
   "pygments_lexer": "ipython3",
   "version": "3.8.5"
  }
 },
 "nbformat": 4,
 "nbformat_minor": 4
}
