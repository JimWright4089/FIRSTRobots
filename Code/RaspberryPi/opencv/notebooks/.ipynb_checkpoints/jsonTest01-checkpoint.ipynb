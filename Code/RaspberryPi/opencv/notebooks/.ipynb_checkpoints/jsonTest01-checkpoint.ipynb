{
 "cells": [
  {
   "cell_type": "code",
   "execution_count": 43,
   "metadata": {},
   "outputs": [
    {
     "name": "stdout",
     "output_type": "stream",
     "text": [
      "{'colors': [{'color': 'blue', 'code': {'h': [89, 114], 's': [151, 255], 'v': [61, 215], 'rgb': [0, 0, 255]}}, {'color': 'red', 'code': {'h': [141, 198], 's': [70, 255], 'v': [0, 255], 'rgb': [255, 0, 0]}}]}\n"
     ]
    }
   ],
   "source": [
    "with open('colors.json') as json_file:\n",
    "    data = json.load(json_file)\n",
    "    print(data)"
   ]
  },
  {
   "cell_type": "code",
   "execution_count": 45,
   "metadata": {},
   "outputs": [
    {
     "name": "stdout",
     "output_type": "stream",
     "text": [
      "{'color': 'blue', 'code': {'h': [89, 114], 's': [151, 255], 'v': [61, 215], 'rgb': [0, 0, 255]}}\n",
      "blue\n",
      "61\n",
      "215\n",
      "[0, 0, 255]\n",
      "{'color': 'red', 'code': {'h': [141, 198], 's': [70, 255], 'v': [0, 255], 'rgb': [255, 0, 0]}}\n",
      "red\n",
      "0\n",
      "255\n",
      "[255, 0, 0]\n"
     ]
    }
   ],
   "source": [
    "for p in data['colors']:\n",
    "    print(p)\n",
    "    print(p['color'])\n",
    "    print(p['code']['v'][0])\n",
    "    print(p['code']['v'][1])\n",
    "    print(p['code']['rgb'])"
   ]
  },
  {
   "cell_type": "code",
   "execution_count": null,
   "metadata": {},
   "outputs": [],
   "source": []
  }
 ],
 "metadata": {
  "kernelspec": {
   "display_name": "Python 3",
   "language": "python",
   "name": "python3"
  },
  "language_info": {
   "codemirror_mode": {
    "name": "ipython",
    "version": 3
   },
   "file_extension": ".py",
   "mimetype": "text/x-python",
   "name": "python",
   "nbconvert_exporter": "python",
   "pygments_lexer": "ipython3",
   "version": "3.7.3"
  }
 },
 "nbformat": 4,
 "nbformat_minor": 4
}
