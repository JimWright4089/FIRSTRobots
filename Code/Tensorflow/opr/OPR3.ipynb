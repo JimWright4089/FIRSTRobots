{
 "cells": [
  {
   "cell_type": "code",
   "execution_count": 37,
   "metadata": {},
   "outputs": [],
   "source": [
    "import matplotlib.pyplot as plt\n",
    "import pandas as pd\n",
    "import seaborn as sns\n",
    "import numpy as np\n"
   ]
  },
  {
   "cell_type": "code",
   "execution_count": 38,
   "metadata": {},
   "outputs": [
    {
     "data": {
      "text/plain": [
       "array([1595, 2147, 2605, 2811, 2910, 2944, 3663, 3693, 3711, 3712, 3876,\n",
       "       4060, 4061, 4089, 4104, 4125, 4513, 4692, 4911, 4980, 5920, 6076,\n",
       "       6442, 6443], dtype=int64)"
      ]
     },
     "execution_count": 38,
     "metadata": {},
     "output_type": "execute_result"
    }
   ],
   "source": [
    "#eventData = pd.read_csv('BAExample3.csv')\n",
    "eventData = pd.read_csv('PNWDistrictWestValleyEvent2020.csv')\n",
    "fullTeamList = np.concatenate((eventData['Team1'], eventData['Team2'], eventData['Team3']))\n",
    "fullTeamList = np.sort(fullTeamList)\n",
    "teamList = np.unique(fullTeamList)\n",
    "teamList"
   ]
  },
  {
   "cell_type": "code",
   "execution_count": 39,
   "metadata": {},
   "outputs": [
    {
     "data": {
      "text/plain": [
       "24"
      ]
     },
     "execution_count": 39,
     "metadata": {},
     "output_type": "execute_result"
    }
   ],
   "source": [
    "teamList.shape[0]"
   ]
  },
  {
   "cell_type": "code",
   "execution_count": 40,
   "metadata": {},
   "outputs": [
    {
     "data": {
      "text/plain": [
       "122"
      ]
     },
     "execution_count": 40,
     "metadata": {},
     "output_type": "execute_result"
    }
   ],
   "source": [
    "numberOfMatchs = eventData['Match'].count()\n",
    "numberOfMatchs"
   ]
  },
  {
   "cell_type": "code",
   "execution_count": 41,
   "metadata": {},
   "outputs": [
    {
     "data": {
      "text/plain": [
       "(122, 24)"
      ]
     },
     "execution_count": 41,
     "metadata": {},
     "output_type": "execute_result"
    }
   ],
   "source": [
    "Teams = np.zeros((numberOfMatchs,teamList.shape[0]))\n",
    "TeamsPrime = np.zeros((teamList.shape[0],numberOfMatchs))\n",
    "Teams.shape"
   ]
  },
  {
   "cell_type": "code",
   "execution_count": 42,
   "metadata": {},
   "outputs": [
    {
     "data": {
      "text/plain": [
       "(122,)"
      ]
     },
     "execution_count": 42,
     "metadata": {},
     "output_type": "execute_result"
    }
   ],
   "source": [
    "Scores = eventData['Score']\n",
    "Scores.shape"
   ]
  },
  {
   "cell_type": "code",
   "execution_count": 43,
   "metadata": {},
   "outputs": [
    {
     "data": {
      "text/plain": [
       "(122, 24)"
      ]
     },
     "execution_count": 43,
     "metadata": {},
     "output_type": "execute_result"
    }
   ],
   "source": [
    "for row in range(numberOfMatchs):\n",
    "    x = np.where(teamList == eventData['Team1'][row])\n",
    "    Teams[row][x[0][0]] = 1\n",
    "    TeamsPrime[x[0][0]][row] = 1\n",
    "    x = np.where(teamList == eventData['Team2'][row])\n",
    "    Teams[row][x[0][0]] = 1\n",
    "    TeamsPrime[x[0][0]][row] = 1\n",
    "    x = np.where(teamList == eventData['Team3'][row])\n",
    "    Teams[row][x[0][0]] = 1\n",
    "    TeamsPrime[x[0][0]][row] = 1\n",
    "Teams.shape"
   ]
  },
  {
   "cell_type": "code",
   "execution_count": 44,
   "metadata": {},
   "outputs": [
    {
     "name": "stdout",
     "output_type": "stream",
     "text": [
      "(24, 24)\n",
      "(24,)\n"
     ]
    }
   ],
   "source": [
    "TeamsTotal = np.matmul(TeamsPrime,Teams)\n",
    "ScoresTotal = np.matmul(TeamsPrime,Scores)\n",
    "print(TeamsTotal.shape)\n",
    "print(ScoresTotal.shape)"
   ]
  },
  {
   "cell_type": "code",
   "execution_count": 45,
   "metadata": {},
   "outputs": [
    {
     "data": {
      "text/plain": [
       "array([29.63908583, 44.64442208, 21.1924053 , 54.46719909, 91.29369355,\n",
       "        7.02790398, 61.68745477, 12.01155013, 54.24871273, 14.02712664,\n",
       "        1.47078488, 12.31108357, 32.01763025, 60.62616044,  4.95384703,\n",
       "       27.96619349, 51.08390639, 10.31032432, 92.43129771, 15.44669668,\n",
       "       52.98383339, 18.41129851,  8.07411672, 35.89811109])"
      ]
     },
     "execution_count": 45,
     "metadata": {},
     "output_type": "execute_result"
    }
   ],
   "source": [
    "OPRs = np.linalg.solve(TeamsTotal, ScoresTotal)\n",
    "OPRs"
   ]
  },
  {
   "cell_type": "code",
   "execution_count": 46,
   "metadata": {},
   "outputs": [
    {
     "name": "stdout",
     "output_type": "stream",
     "text": [
      "1595 29.63908582580646\n",
      "2147 44.644422078176916\n",
      "2605 21.192405298319414\n",
      "2811 54.46719908836268\n",
      "2910 91.29369355350622\n",
      "2944 7.0279039814949\n",
      "3663 61.68745476630065\n",
      "3693 12.011550127544533\n",
      "3711 54.24871272551576\n",
      "3712 14.027126635727399\n",
      "3876 1.4707848797757348\n",
      "4060 12.311083566593565\n",
      "4061 32.0176302507169\n",
      "4089 60.6261604425354\n",
      "4104 4.953847025672811\n",
      "4125 27.96619348875346\n",
      "4513 51.08390638672115\n",
      "4692 10.310324318790643\n",
      "4911 92.43129770726398\n",
      "4980 15.446696675818439\n",
      "5920 52.98383339312635\n",
      "6076 18.411298513949028\n",
      "6442 8.074116721112476\n",
      "6443 35.89811108540665\n"
     ]
    }
   ],
   "source": [
    "OPRArray = []\n",
    "for row in range(OPRs.shape[0]):\n",
    "    print(str(teamList[row]) + \" \"+ str(OPRs[row]))\n",
    "    OPRArray.append((OPRs[row],teamList[row]))\n",
    " #   print(teamNumber = teamList[row].str() + \" \"+ OPRs[row].str())"
   ]
  },
  {
   "cell_type": "code",
   "execution_count": null,
   "metadata": {},
   "outputs": [],
   "source": []
  },
  {
   "cell_type": "code",
   "execution_count": null,
   "metadata": {},
   "outputs": [],
   "source": []
  }
 ],
 "metadata": {
  "kernelspec": {
   "display_name": "Python 3",
   "language": "python",
   "name": "python3"
  },
  "language_info": {
   "codemirror_mode": {
    "name": "ipython",
    "version": 3
   },
   "file_extension": ".py",
   "mimetype": "text/x-python",
   "name": "python",
   "nbconvert_exporter": "python",
   "pygments_lexer": "ipython3",
   "version": "3.8.5"
  }
 },
 "nbformat": 4,
 "nbformat_minor": 4
}
