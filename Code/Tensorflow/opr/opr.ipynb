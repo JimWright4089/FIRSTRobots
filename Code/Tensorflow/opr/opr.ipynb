{
 "cells": [
  {
   "cell_type": "code",
   "execution_count": 1,
   "metadata": {},
   "outputs": [
    {
     "data": {
      "text/plain": [
       "array([-0.58226371,  3.22870478, -1.98599767])"
      ]
     },
     "execution_count": 1,
     "metadata": {},
     "output_type": "execute_result"
    }
   ],
   "source": [
    "import numpy as np\n",
    "\n",
    "A = np.array([[8, 3, -2], [-4, 7, 5], [3, 4, -12]])\n",
    "b = np.array([9, 15, 35])\n",
    "x = np.linalg.solve(A, b)\n",
    "x\n"
   ]
  },
  {
   "cell_type": "code",
   "execution_count": 4,
   "metadata": {},
   "outputs": [],
   "source": [
    "import matplotlib.pyplot as plt\n",
    "import pandas as pd\n",
    "import seaborn as sns\n"
   ]
  },
  {
   "cell_type": "code",
   "execution_count": 126,
   "metadata": {},
   "outputs": [
    {
     "data": {
      "text/plain": [
       "(61, 9)"
      ]
     },
     "execution_count": 126,
     "metadata": {},
     "output_type": "execute_result"
    }
   ],
   "source": [
    "westValley = pd.read_csv('PNWDistrictWestValleyEvent2020.csv')\n",
    "westValley.shape\n"
   ]
  },
  {
   "cell_type": "code",
   "execution_count": 47,
   "metadata": {},
   "outputs": [
    {
     "data": {
      "text/plain": [
       "0    4911\n",
       "1    2605\n",
       "2    3693\n",
       "3    4089\n",
       "4    4980\n",
       "Name: Red1, dtype: int64"
      ]
     },
     "execution_count": 47,
     "metadata": {},
     "output_type": "execute_result"
    }
   ],
   "source": [
    "westValley['Red1'].head()"
   ]
  },
  {
   "cell_type": "code",
   "execution_count": 140,
   "metadata": {},
   "outputs": [
    {
     "data": {
      "text/plain": [
       "array([1595, 1595, 1595, 1595, 1595, 1595, 1595, 1595, 1595, 1595, 1595,\n",
       "       1595, 1595, 1595, 1595, 1595, 2147, 2147, 2147, 2147, 2147, 2147,\n",
       "       2147, 2147, 2147, 2147, 2147, 2147, 2147, 2147, 2147, 2147, 2605,\n",
       "       2605, 2605, 2605, 2605, 2605, 2605, 2605, 2605, 2605, 2605, 2605,\n",
       "       2605, 2605, 2811, 2811, 2811, 2811, 2811, 2811, 2811, 2811, 2811,\n",
       "       2811, 2811, 2811, 2811, 2811, 2811, 2811, 2910, 2910, 2910, 2910,\n",
       "       2910, 2910, 2910, 2910, 2910, 2910, 2910, 2910, 2910, 2910, 2910,\n",
       "       2910, 2944, 2944, 2944, 2944, 2944, 2944, 2944, 2944, 2944, 2944,\n",
       "       2944, 2944, 3663, 3663, 3663, 3663, 3663, 3663, 3663, 3663, 3663,\n",
       "       3663, 3663, 3663, 3663, 3663, 3663, 3663, 3663, 3663, 3663, 3693,\n",
       "       3693, 3693, 3693, 3693, 3693, 3693, 3693, 3693, 3693, 3693, 3693,\n",
       "       3693, 3693, 3693, 3693, 3711, 3711, 3711, 3711, 3711, 3711, 3711,\n",
       "       3711, 3711, 3711, 3711, 3711, 3711, 3711, 3711, 3711, 3712, 3712,\n",
       "       3712, 3712, 3712, 3712, 3712, 3712, 3712, 3712, 3712, 3712, 3712,\n",
       "       3712, 3712, 3712, 3876, 3876, 3876, 3876, 3876, 3876, 3876, 3876,\n",
       "       3876, 3876, 3876, 3876, 4060, 4060, 4060, 4060, 4060, 4060, 4060,\n",
       "       4060, 4060, 4060, 4060, 4060, 4060, 4060, 4061, 4061, 4061, 4061,\n",
       "       4061, 4061, 4061, 4061, 4061, 4061, 4061, 4061, 4061, 4061, 4061,\n",
       "       4089, 4089, 4089, 4089, 4089, 4089, 4089, 4089, 4089, 4089, 4089,\n",
       "       4089, 4089, 4089, 4089, 4089, 4089, 4089, 4089, 4104, 4104, 4104,\n",
       "       4104, 4104, 4104, 4104, 4104, 4104, 4104, 4104, 4104, 4104, 4104,\n",
       "       4104, 4104, 4104, 4104, 4104, 4125, 4125, 4125, 4125, 4125, 4125,\n",
       "       4125, 4125, 4125, 4125, 4125, 4125, 4125, 4125, 4513, 4513, 4513,\n",
       "       4513, 4513, 4513, 4513, 4513, 4513, 4513, 4513, 4513, 4513, 4513,\n",
       "       4692, 4692, 4692, 4692, 4692, 4692, 4692, 4692, 4692, 4692, 4692,\n",
       "       4692, 4692, 4692, 4692, 4911, 4911, 4911, 4911, 4911, 4911, 4911,\n",
       "       4911, 4911, 4911, 4911, 4911, 4911, 4911, 4911, 4911, 4980, 4980,\n",
       "       4980, 4980, 4980, 4980, 4980, 4980, 4980, 4980, 4980, 4980, 4980,\n",
       "       4980, 5920, 5920, 5920, 5920, 5920, 5920, 5920, 5920, 5920, 5920,\n",
       "       5920, 5920, 5920, 5920, 5920, 6076, 6076, 6076, 6076, 6076, 6076,\n",
       "       6076, 6076, 6076, 6076, 6076, 6076, 6076, 6076, 6076, 6076, 6442,\n",
       "       6442, 6442, 6442, 6442, 6442, 6442, 6442, 6442, 6442, 6442, 6442,\n",
       "       6443, 6443, 6443, 6443, 6443, 6443, 6443, 6443, 6443, 6443, 6443,\n",
       "       6443, 6443, 6443], dtype=int64)"
      ]
     },
     "execution_count": 140,
     "metadata": {},
     "output_type": "execute_result"
    }
   ],
   "source": [
    "fullTeamList = np.concatenate((westValley['Red1'], westValley['Red2'], westValley['Red3'], westValley['Blue1'], westValley['Blue2'], westValley['Blue3']))\n",
    "fullTeamList = np.sort(fullTeamList)\n",
    "fullTeamList"
   ]
  },
  {
   "cell_type": "code",
   "execution_count": 128,
   "metadata": {},
   "outputs": [
    {
     "data": {
      "text/plain": [
       "array([1595, 2147, 2605, 2811, 2910, 2944, 3663, 3693, 3711, 3712, 3876,\n",
       "       4060, 4061, 4089, 4104, 4125, 4513, 4692, 4911, 4980, 5920, 6076,\n",
       "       6442, 6443], dtype=int64)"
      ]
     },
     "execution_count": 128,
     "metadata": {},
     "output_type": "execute_result"
    }
   ],
   "source": [
    "teamList = np.unique(fullTeamList)\n",
    "teamList"
   ]
  },
  {
   "cell_type": "code",
   "execution_count": 129,
   "metadata": {},
   "outputs": [
    {
     "data": {
      "text/plain": [
       "24"
      ]
     },
     "execution_count": 129,
     "metadata": {},
     "output_type": "execute_result"
    }
   ],
   "source": [
    "teamList.shape[0]"
   ]
  },
  {
   "cell_type": "code",
   "execution_count": 130,
   "metadata": {},
   "outputs": [
    {
     "data": {
      "text/plain": [
       "61"
      ]
     },
     "execution_count": 130,
     "metadata": {},
     "output_type": "execute_result"
    }
   ],
   "source": [
    "numberOfMatchs = westValley['Match'].count()\n",
    "numberOfMatchs"
   ]
  },
  {
   "cell_type": "code",
   "execution_count": 131,
   "metadata": {},
   "outputs": [
    {
     "data": {
      "text/plain": [
       "13"
      ]
     },
     "execution_count": 131,
     "metadata": {},
     "output_type": "execute_result"
    }
   ],
   "source": [
    "x = np.where(teamList == 4089)\n",
    "x[0][0]"
   ]
  },
  {
   "cell_type": "code",
   "execution_count": 132,
   "metadata": {},
   "outputs": [
    {
     "data": {
      "text/plain": [
       "(122, 24)"
      ]
     },
     "execution_count": 132,
     "metadata": {},
     "output_type": "execute_result"
    }
   ],
   "source": [
    "Teams = np.zeros((numberOfMatchs*2,teamList.shape[0]))\n",
    "TeamsPrime = np.zeros((teamList.shape[0],numberOfMatchs*2))\n",
    "Teams.shape"
   ]
  },
  {
   "cell_type": "code",
   "execution_count": 133,
   "metadata": {},
   "outputs": [
    {
     "data": {
      "text/plain": [
       "(122,)"
      ]
     },
     "execution_count": 133,
     "metadata": {},
     "output_type": "execute_result"
    }
   ],
   "source": [
    "Scores = np.concatenate((westValley['RedScore'],westValley['BlueScore']))\n",
    "Scores.shape"
   ]
  },
  {
   "cell_type": "code",
   "execution_count": 134,
   "metadata": {},
   "outputs": [
    {
     "data": {
      "text/plain": [
       "4911"
      ]
     },
     "execution_count": 134,
     "metadata": {},
     "output_type": "execute_result"
    }
   ],
   "source": [
    "westValley['Red1'][0]"
   ]
  },
  {
   "cell_type": "code",
   "execution_count": 135,
   "metadata": {},
   "outputs": [
    {
     "data": {
      "text/plain": [
       "(122, 24)"
      ]
     },
     "execution_count": 135,
     "metadata": {},
     "output_type": "execute_result"
    }
   ],
   "source": [
    "for row in range(numberOfMatchs):\n",
    "    x = np.where(teamList == westValley['Red1'][row])\n",
    "    Teams[row][x[0][0]] = 1\n",
    "    TeamsPrime[x[0][0]][row] = 1\n",
    "    x = np.where(teamList == westValley['Red2'][row])\n",
    "    Teams[row][x[0][0]] = 1\n",
    "    TeamsPrime[x[0][0]][row] = 1\n",
    "    x = np.where(teamList == westValley['Red3'][row])\n",
    "    Teams[row][x[0][0]] = 1\n",
    "    TeamsPrime[x[0][0]][row] = 1\n",
    "    x = np.where(teamList == westValley['Blue1'][row])\n",
    "    Teams[numberOfMatchs+row][x[0][0]] = 1\n",
    "    TeamsPrime[x[0][0]][numberOfMatchs+row] = 1\n",
    "    x = np.where(teamList == westValley['Blue2'][row])\n",
    "    Teams[numberOfMatchs+row][x[0][0]] = 1\n",
    "    TeamsPrime[x[0][0]][numberOfMatchs+row] = 1\n",
    "    x = np.where(teamList == westValley['Blue3'][row])\n",
    "    Teams[numberOfMatchs+row][x[0][0]] = 1\n",
    "    TeamsPrime[x[0][0]][numberOfMatchs+row] = 1\n",
    "Teams.shape"
   ]
  },
  {
   "cell_type": "code",
   "execution_count": 136,
   "metadata": {},
   "outputs": [
    {
     "name": "stdout",
     "output_type": "stream",
     "text": [
      "(24, 24)\n",
      "(24,)\n"
     ]
    }
   ],
   "source": [
    "TeamsTotal = np.matmul(TeamsPrime,Teams)\n",
    "ScoresTotal = np.matmul(TeamsPrime,Scores)\n",
    "print(TeamsTotal.shape)\n",
    "print(ScoresTotal.shape)"
   ]
  },
  {
   "cell_type": "code",
   "execution_count": 153,
   "metadata": {},
   "outputs": [
    {
     "data": {
      "text/plain": [
       "array([ 2.65212034e+01,  4.24441842e+01,  2.95336121e+01,  6.45513722e+01,\n",
       "        9.99224131e+01, -8.36981238e+00,  6.24629168e+01,  2.06713532e+01,\n",
       "        6.04957322e+01,  7.73372702e+00, -6.94355861e+00,  1.27762142e+01,\n",
       "        1.68659719e+01,  6.34268300e+01,  2.67877793e+01,  3.78174627e+01,\n",
       "        6.64036356e+01,  2.38332094e+01,  1.08909224e+02, -2.10645278e-03,\n",
       "        5.70220154e+01, -2.48121066e+00,  1.22962114e+01,  2.51727923e+01])"
      ]
     },
     "execution_count": 153,
     "metadata": {},
     "output_type": "execute_result"
    }
   ],
   "source": [
    "OPRs = np.linalg.solve(RedTeamsTotal, RedScoresTotal)\n",
    "OPRs"
   ]
  },
  {
   "cell_type": "code",
   "execution_count": 154,
   "metadata": {},
   "outputs": [
    {
     "name": "stdout",
     "output_type": "stream",
     "text": [
      "1595 26.52120339745753\n",
      "2147 42.444184164894665\n",
      "2605 29.533612136876155\n",
      "2811 64.5513722309477\n",
      "2910 99.92241309953079\n",
      "2944 -8.369812380693286\n",
      "3663 62.46291681275935\n",
      "3693 20.67135324826187\n",
      "3711 60.495732224393066\n",
      "3712 7.733727016299237\n",
      "3876 -6.943558606550616\n",
      "4060 12.776214151971043\n",
      "4061 16.86597191225603\n",
      "4089 63.426830019347925\n",
      "4104 26.787779315133815\n",
      "4125 37.81746266193912\n",
      "4513 66.40363560083202\n",
      "4692 23.8332093896483\n",
      "4911 108.90922392904999\n",
      "4980 -0.0021064527775261025\n",
      "5920 57.022015443698265\n",
      "6076 -2.481210657672267\n",
      "6442 12.296211440391302\n",
      "6443 25.17279225797401\n"
     ]
    }
   ],
   "source": [
    "OPRArray = []\n",
    "for row in range(OPRs.shape[0]):\n",
    "    print(str(teamList[row]) + \" \"+ str(OPRs[row]))\n",
    "    OPRArray.append((OPRs[row],teamList[row]))\n",
    " #   print(teamNumber = teamList[row].str() + \" \"+ OPRs[row].str())"
   ]
  },
  {
   "cell_type": "code",
   "execution_count": null,
   "metadata": {},
   "outputs": [],
   "source": []
  },
  {
   "cell_type": "code",
   "execution_count": null,
   "metadata": {},
   "outputs": [],
   "source": []
  }
 ],
 "metadata": {
  "kernelspec": {
   "display_name": "Python 3",
   "language": "python",
   "name": "python3"
  },
  "language_info": {
   "codemirror_mode": {
    "name": "ipython",
    "version": 3
   },
   "file_extension": ".py",
   "mimetype": "text/x-python",
   "name": "python",
   "nbconvert_exporter": "python",
   "pygments_lexer": "ipython3",
   "version": "3.8.5"
  }
 },
 "nbformat": 4,
 "nbformat_minor": 4
}
