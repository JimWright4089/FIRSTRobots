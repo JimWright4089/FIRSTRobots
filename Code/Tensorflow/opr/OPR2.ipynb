{
 "cells": [
  {
   "cell_type": "code",
   "execution_count": 1,
   "metadata": {},
   "outputs": [],
   "source": [
    "import matplotlib.pyplot as plt\n",
    "import pandas as pd\n",
    "import seaborn as sns\n",
    "import numpy as np"
   ]
  },
  {
   "cell_type": "code",
   "execution_count": 4,
   "metadata": {},
   "outputs": [
    {
     "data": {
      "text/plain": [
       "array([1, 2, 3, 4], dtype=int64)"
      ]
     },
     "execution_count": 4,
     "metadata": {},
     "output_type": "execute_result"
    }
   ],
   "source": [
    "eventData = pd.read_csv('BAExample.csv')\n",
    "fullTeamList = np.concatenate((eventData['Team1'], eventData['Team2']))\n",
    "fullTeamList = np.sort(fullTeamList)\n",
    "teamList = np.unique(fullTeamList)\n",
    "teamList"
   ]
  },
  {
   "cell_type": "code",
   "execution_count": 5,
   "metadata": {},
   "outputs": [
    {
     "data": {
      "text/plain": [
       "5"
      ]
     },
     "execution_count": 5,
     "metadata": {},
     "output_type": "execute_result"
    }
   ],
   "source": [
    "numberOfMatchs = eventData['Match'].count()\n",
    "numberOfMatchs"
   ]
  },
  {
   "cell_type": "code",
   "execution_count": 6,
   "metadata": {},
   "outputs": [
    {
     "data": {
      "text/plain": [
       "1"
      ]
     },
     "execution_count": 6,
     "metadata": {},
     "output_type": "execute_result"
    }
   ],
   "source": [
    "x = np.where(teamList == 2)\n",
    "x[0][0]"
   ]
  },
  {
   "cell_type": "code",
   "execution_count": 7,
   "metadata": {},
   "outputs": [
    {
     "data": {
      "text/plain": [
       "(5, 4)"
      ]
     },
     "execution_count": 7,
     "metadata": {},
     "output_type": "execute_result"
    }
   ],
   "source": [
    "Teams = np.zeros((numberOfMatchs,teamList.shape[0]))\n",
    "TeamsPrime = np.zeros((teamList.shape[0],numberOfMatchs))\n",
    "Teams.shape"
   ]
  },
  {
   "cell_type": "code",
   "execution_count": 8,
   "metadata": {},
   "outputs": [
    {
     "data": {
      "text/plain": [
       "(5,)"
      ]
     },
     "execution_count": 8,
     "metadata": {},
     "output_type": "execute_result"
    }
   ],
   "source": [
    "Scores = eventData['Score']\n",
    "Scores.shape"
   ]
  },
  {
   "cell_type": "code",
   "execution_count": 9,
   "metadata": {},
   "outputs": [
    {
     "data": {
      "text/plain": [
       "(5, 4)"
      ]
     },
     "execution_count": 9,
     "metadata": {},
     "output_type": "execute_result"
    }
   ],
   "source": [
    "for row in range(numberOfMatchs):\n",
    "    x = np.where(teamList == eventData['Team1'][row])\n",
    "    Teams[row][x[0][0]] = 1\n",
    "    TeamsPrime[x[0][0]][row] = 1\n",
    "    x = np.where(teamList == eventData['Team2'][row])\n",
    "    Teams[row][x[0][0]] = 1\n",
    "    TeamsPrime[x[0][0]][row] = 1\n",
    "Teams.shape"
   ]
  },
  {
   "cell_type": "code",
   "execution_count": 10,
   "metadata": {},
   "outputs": [
    {
     "name": "stdout",
     "output_type": "stream",
     "text": [
      "(4, 4)\n",
      "(4,)\n"
     ]
    }
   ],
   "source": [
    "TeamsTotal = np.matmul(TeamsPrime,Teams)\n",
    "ScoresTotal = np.matmul(TeamsPrime,Scores)\n",
    "print(TeamsTotal.shape)\n",
    "print(ScoresTotal.shape)"
   ]
  },
  {
   "cell_type": "code",
   "execution_count": 11,
   "metadata": {},
   "outputs": [
    {
     "data": {
      "text/plain": [
       "array([7.75, 2.25, 5.  , 7.5 ])"
      ]
     },
     "execution_count": 11,
     "metadata": {},
     "output_type": "execute_result"
    }
   ],
   "source": [
    "OPRs = np.linalg.solve(TeamsTotal, ScoresTotal)\n",
    "OPRs"
   ]
  },
  {
   "cell_type": "code",
   "execution_count": 12,
   "metadata": {},
   "outputs": [
    {
     "name": "stdout",
     "output_type": "stream",
     "text": [
      "1 7.75\n",
      "2 2.25\n",
      "3 5.0\n",
      "4 7.499999999999999\n"
     ]
    }
   ],
   "source": [
    "OPRArray = []\n",
    "for row in range(OPRs.shape[0]):\n",
    "    print(str(teamList[row]) + \" \"+ str(OPRs[row]))\n",
    "    OPRArray.append((OPRs[row],teamList[row]))\n",
    " #   print(teamNumber = teamList[row].str() + \" \"+ OPRs[row].str())"
   ]
  },
  {
   "cell_type": "code",
   "execution_count": null,
   "metadata": {},
   "outputs": [],
   "source": []
  },
  {
   "cell_type": "code",
   "execution_count": null,
   "metadata": {},
   "outputs": [],
   "source": []
  }
 ],
 "metadata": {
  "kernelspec": {
   "display_name": "Python 3",
   "language": "python",
   "name": "python3"
  },
  "language_info": {
   "codemirror_mode": {
    "name": "ipython",
    "version": 3
   },
   "file_extension": ".py",
   "mimetype": "text/x-python",
   "name": "python",
   "nbconvert_exporter": "python",
   "pygments_lexer": "ipython3",
   "version": "3.8.5"
  }
 },
 "nbformat": 4,
 "nbformat_minor": 4
}
